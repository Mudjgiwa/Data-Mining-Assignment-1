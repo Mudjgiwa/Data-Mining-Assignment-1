{
 "cells": [
  {
   "cell_type": "raw",
   "id": "e21c31c1",
   "metadata": {},
   "source": [
    "data cleaning"
   ]
  },
  {
   "cell_type": "code",
   "execution_count": 1,
   "id": "41aba389",
   "metadata": {},
   "outputs": [],
   "source": [
    "import pandas as pd\n",
    "\n",
    "# read the CSV file into a DataFrame\n",
    "df = pd.read_csv('SALESEDACSV-FallB.csv')"
   ]
  },
  {
   "cell_type": "code",
   "execution_count": 2,
   "id": "b12ac3a0",
   "metadata": {},
   "outputs": [
    {
     "data": {
      "text/plain": [
       "Time_of_sale        object\n",
       "Region_of_sale      object\n",
       "Payment_Type        object\n",
       "Product_A_Sales    float64\n",
       "Product_B_Sales    float64\n",
       "Product_C_Sales    float64\n",
       "Product_D_Sales      int64\n",
       "Source_of_Sale      object\n",
       "dtype: object"
      ]
     },
     "execution_count": 2,
     "metadata": {},
     "output_type": "execute_result"
    }
   ],
   "source": [
    "df.dtypes"
   ]
  },
  {
   "cell_type": "code",
   "execution_count": 3,
   "id": "7069c1c6",
   "metadata": {},
   "outputs": [
    {
     "data": {
      "text/plain": [
       "Time_of_sale       0\n",
       "Region_of_sale     2\n",
       "Payment_Type       9\n",
       "Product_A_Sales    1\n",
       "Product_B_Sales    6\n",
       "Product_C_Sales    8\n",
       "Product_D_Sales    0\n",
       "Source_of_Sale     0\n",
       "dtype: int64"
      ]
     },
     "execution_count": 3,
     "metadata": {},
     "output_type": "execute_result"
    }
   ],
   "source": [
    "df.isnull().sum() #counting number of null values per column in the dataframe"
   ]
  },
  {
   "cell_type": "code",
   "execution_count": 4,
   "id": "4709b7ab",
   "metadata": {},
   "outputs": [
    {
     "data": {
      "text/plain": [
       "Time_of_sale       395\n",
       "Region_of_sale       4\n",
       "Payment_Type         3\n",
       "Product_A_Sales    217\n",
       "Product_B_Sales     58\n",
       "Product_C_Sales    255\n",
       "Product_D_Sales    217\n",
       "Source_of_Sale       3\n",
       "dtype: int64"
      ]
     },
     "execution_count": 4,
     "metadata": {},
     "output_type": "execute_result"
    }
   ],
   "source": [
    "df.nunique() #getting unique values per column"
   ]
  },
  {
   "cell_type": "raw",
   "id": "3666b140",
   "metadata": {},
   "source": [
    "Filling in all the missing values"
   ]
  },
  {
   "cell_type": "code",
   "execution_count": 5,
   "id": "e6dcb1a1",
   "metadata": {},
   "outputs": [
    {
     "name": "stdout",
     "output_type": "stream",
     "text": [
      "Time_of_sale       0\n",
      "Region_of_sale     2\n",
      "Payment_Type       9\n",
      "Product_A_Sales    1\n",
      "Product_B_Sales    6\n",
      "Product_C_Sales    8\n",
      "Product_D_Sales    0\n",
      "Source_of_Sale     0\n",
      "dtype: int64\n"
     ]
    }
   ],
   "source": [
    "import pandas as pd\n",
    "\n",
    "# Read the CSV file into a pandas dataframe\n",
    "df = pd.read_csv('SALESEDACSV-FallB.csv')\n",
    "\n",
    "# Check for missing values in the dataframe\n",
    "print(df.isnull().sum())\n",
    "\n",
    "# Fill missing values in the Region_of_sale column with the mode of the column\n",
    "df['Region_of_sale'].fillna(df['Region_of_sale'].mode()[0], inplace=True)\n",
    "\n",
    "# Fill missing values in the Payment_Type column with the mode of the column\n",
    "df['Payment_Type'].fillna(df['Payment_Type'].mode()[0], inplace=True)\n",
    "\n",
    "# Fill missing values in the Product_A_Sales column with the mean of the column\n",
    "df['Product_A_Sales'].fillna(df['Product_A_Sales'].mean(), inplace=True)\n",
    "\n",
    "# Fill missing values in the Product_B_Sales column with the mean of the column\n",
    "df['Product_B_Sales'].fillna(df['Product_B_Sales'].mean(), inplace=True)\n",
    "\n",
    "# Fill missing values in the Product_C_Sales column with the mean of the column\n",
    "df['Product_C_Sales'].fillna(df['Product_C_Sales'].mean(), inplace=True)"
   ]
  },
  {
   "cell_type": "code",
   "execution_count": 6,
   "id": "841dd0a2",
   "metadata": {},
   "outputs": [
    {
     "data": {
      "text/html": [
       "<div>\n",
       "<style scoped>\n",
       "    .dataframe tbody tr th:only-of-type {\n",
       "        vertical-align: middle;\n",
       "    }\n",
       "\n",
       "    .dataframe tbody tr th {\n",
       "        vertical-align: top;\n",
       "    }\n",
       "\n",
       "    .dataframe thead th {\n",
       "        text-align: right;\n",
       "    }\n",
       "</style>\n",
       "<table border=\"1\" class=\"dataframe\">\n",
       "  <thead>\n",
       "    <tr style=\"text-align: right;\">\n",
       "      <th></th>\n",
       "      <th>Time_of_sale</th>\n",
       "      <th>Region_of_sale</th>\n",
       "      <th>Payment_Type</th>\n",
       "      <th>Product_A_Sales</th>\n",
       "      <th>Product_B_Sales</th>\n",
       "      <th>Product_C_Sales</th>\n",
       "      <th>Product_D_Sales</th>\n",
       "      <th>Source_of_Sale</th>\n",
       "    </tr>\n",
       "  </thead>\n",
       "  <tbody>\n",
       "    <tr>\n",
       "      <th>0</th>\n",
       "      <td>11:41:35</td>\n",
       "      <td>East</td>\n",
       "      <td>Net banking</td>\n",
       "      <td>398.0</td>\n",
       "      <td>90.0</td>\n",
       "      <td>235.0</td>\n",
       "      <td>102</td>\n",
       "      <td>Etsy</td>\n",
       "    </tr>\n",
       "    <tr>\n",
       "      <th>1</th>\n",
       "      <td>0:29:05</td>\n",
       "      <td>South</td>\n",
       "      <td>Net banking</td>\n",
       "      <td>358.0</td>\n",
       "      <td>86.0</td>\n",
       "      <td>493.0</td>\n",
       "      <td>41</td>\n",
       "      <td>Amazon</td>\n",
       "    </tr>\n",
       "    <tr>\n",
       "      <th>2</th>\n",
       "      <td>9:03:06</td>\n",
       "      <td>South</td>\n",
       "      <td>Credit card</td>\n",
       "      <td>107.0</td>\n",
       "      <td>78.0</td>\n",
       "      <td>216.0</td>\n",
       "      <td>275</td>\n",
       "      <td>Etsy</td>\n",
       "    </tr>\n",
       "    <tr>\n",
       "      <th>3</th>\n",
       "      <td>6:39:16</td>\n",
       "      <td>East</td>\n",
       "      <td>Paypal</td>\n",
       "      <td>153.0</td>\n",
       "      <td>68.0</td>\n",
       "      <td>182.0</td>\n",
       "      <td>50</td>\n",
       "      <td>Etsy</td>\n",
       "    </tr>\n",
       "    <tr>\n",
       "      <th>4</th>\n",
       "      <td>22:01:41</td>\n",
       "      <td>East</td>\n",
       "      <td>Net banking</td>\n",
       "      <td>388.0</td>\n",
       "      <td>98.0</td>\n",
       "      <td>71.0</td>\n",
       "      <td>107</td>\n",
       "      <td>Facebook</td>\n",
       "    </tr>\n",
       "  </tbody>\n",
       "</table>\n",
       "</div>"
      ],
      "text/plain": [
       "  Time_of_sale Region_of_sale Payment_Type  Product_A_Sales  Product_B_Sales  \\\n",
       "0     11:41:35           East  Net banking            398.0             90.0   \n",
       "1      0:29:05          South  Net banking            358.0             86.0   \n",
       "2      9:03:06          South  Credit card            107.0             78.0   \n",
       "3      6:39:16           East       Paypal            153.0             68.0   \n",
       "4     22:01:41           East  Net banking            388.0             98.0   \n",
       "\n",
       "   Product_C_Sales  Product_D_Sales Source_of_Sale  \n",
       "0            235.0              102           Etsy  \n",
       "1            493.0               41         Amazon  \n",
       "2            216.0              275           Etsy  \n",
       "3            182.0               50           Etsy  \n",
       "4             71.0              107       Facebook  "
      ]
     },
     "execution_count": 6,
     "metadata": {},
     "output_type": "execute_result"
    }
   ],
   "source": [
    "df.head()"
   ]
  },
  {
   "cell_type": "raw",
   "id": "f8472cfc",
   "metadata": {},
   "source": [
    "Converting time string to datetime object"
   ]
  },
  {
   "cell_type": "code",
   "execution_count": 7,
   "id": "275db591",
   "metadata": {},
   "outputs": [
    {
     "name": "stdout",
     "output_type": "stream",
     "text": [
      "11.693055555555556\n"
     ]
    }
   ],
   "source": [
    "import datetime as dt\n",
    "\n",
    "# Example time string\n",
    "time_str = '11:41:35'\n",
    "\n",
    "# Convert time string to datetime object\n",
    "time_obj = dt.datetime.strptime(time_str, '%H:%M:%S')\n",
    "\n",
    "# Extract time components as floats\n",
    "hours = time_obj.hour\n",
    "minutes = time_obj.minute\n",
    "seconds = time_obj.second\n",
    "\n",
    "# Calculate total time in hours as a float\n",
    "total_time = hours + minutes/60 + seconds/3600\n",
    "\n",
    "# Print the result\n",
    "print(total_time)"
   ]
  },
  {
   "cell_type": "code",
   "execution_count": 8,
   "id": "99d373a9",
   "metadata": {},
   "outputs": [
    {
     "name": "stdout",
     "output_type": "stream",
     "text": [
      "9\n"
     ]
    }
   ],
   "source": [
    "#from the above output Payment_Type still have null values so i am removing all the rows with missing values\n",
    "import pandas as pd\n",
    "\n",
    "# Read the CSV file into a pandas dataframe\n",
    "df = pd.read_csv('SALESEDACSV-FallB.csv')\n",
    "\n",
    "# Check for missing values in the Payment_Type column\n",
    "print(df['Payment_Type'].isnull().sum())\n",
    "\n",
    "# Drop all rows with missing values in the Payment_Type column\n",
    "df.dropna(subset=['Payment_Type'], inplace=True)"
   ]
  },
  {
   "cell_type": "code",
   "execution_count": 9,
   "id": "ba2f4d46",
   "metadata": {},
   "outputs": [
    {
     "name": "stdout",
     "output_type": "stream",
     "text": [
      "    Time_of_sale Region_of_sale Payment_Type  Product_A_Sales  \\\n",
      "0       11:41:35           East  Net banking            398.0   \n",
      "1        0:29:05          South  Net banking            358.0   \n",
      "2        9:03:06          South  Credit card            107.0   \n",
      "3        6:39:16           East       Paypal            153.0   \n",
      "4       22:01:41           East  Net banking            388.0   \n",
      "..           ...            ...          ...              ...   \n",
      "389      4:19:56          South  Credit card            326.0   \n",
      "390      2:22:56          South  Net banking            161.0   \n",
      "391     23:36:22           West  Net banking            314.0   \n",
      "392     14:38:14           West       Paypal            271.0   \n",
      "393      0:42:13           East  Credit card            150.0   \n",
      "\n",
      "     Product_B_Sales  Product_C_Sales  Product_D_Sales Source_of_Sale  \n",
      "0               90.0            235.0              102           Etsy  \n",
      "1               86.0            493.0               41         Amazon  \n",
      "2               78.0            216.0              275           Etsy  \n",
      "3               68.0            182.0               50           Etsy  \n",
      "4               98.0             71.0              107       Facebook  \n",
      "..               ...              ...              ...            ...  \n",
      "389             60.0            183.0              209           Etsy  \n",
      "390             60.0            122.0              122       Facebook  \n",
      "391             87.0            393.0               33         Amazon  \n",
      "392             65.0            229.0              145           Etsy  \n",
      "393             70.0            439.0              237       Facebook  \n",
      "\n",
      "[387 rows x 8 columns]\n"
     ]
    }
   ],
   "source": [
    "import pandas as pd\n",
    "\n",
    "# Read the CSV file into a pandas dataframe\n",
    "df = pd.read_csv('SALESEDACSV-FallB.csv')\n",
    "\n",
    "# Remove all rows with NaN values in the Payment_Type column\n",
    "df = df.dropna(subset=['Payment_Type'])\n",
    "\n",
    "# Show the updated dataframe\n",
    "print(df)"
   ]
  },
  {
   "cell_type": "raw",
   "id": "b45879d7",
   "metadata": {},
   "source": [
    "removing outliers from the 'Product_A_Sales', 'Product_B_Sales', 'Product_C_Sales', and 'Product_D_Sales' columns"
   ]
  },
  {
   "cell_type": "code",
   "execution_count": 10,
   "id": "a8b9f9ad",
   "metadata": {},
   "outputs": [
    {
     "name": "stderr",
     "output_type": "stream",
     "text": [
      "/home/patience/anaconda3/lib/python3.11/site-packages/seaborn/_oldcore.py:1498: FutureWarning: is_categorical_dtype is deprecated and will be removed in a future version. Use isinstance(dtype, CategoricalDtype) instead\n",
      "  if pd.api.types.is_categorical_dtype(vector):\n",
      "/home/patience/anaconda3/lib/python3.11/site-packages/seaborn/_oldcore.py:1498: FutureWarning: is_categorical_dtype is deprecated and will be removed in a future version. Use isinstance(dtype, CategoricalDtype) instead\n",
      "  if pd.api.types.is_categorical_dtype(vector):\n",
      "/home/patience/anaconda3/lib/python3.11/site-packages/seaborn/_oldcore.py:1498: FutureWarning: is_categorical_dtype is deprecated and will be removed in a future version. Use isinstance(dtype, CategoricalDtype) instead\n",
      "  if pd.api.types.is_categorical_dtype(vector):\n",
      "/home/patience/anaconda3/lib/python3.11/site-packages/seaborn/_oldcore.py:1498: FutureWarning: is_categorical_dtype is deprecated and will be removed in a future version. Use isinstance(dtype, CategoricalDtype) instead\n",
      "  if pd.api.types.is_categorical_dtype(vector):\n"
     ]
    },
    {
     "data": {
      "image/png": "[encoded data removed]",
      "text/plain": [
       "<Figure size 640x480 with 1 Axes>"
      ]
     },
     "metadata": {},
     "output_type": "display_data"
    }
   ],
   "source": [
    "import pandas as pd\n",
    "import numpy as np\n",
    "import matplotlib.pyplot as plt\n",
    "import seaborn as sns\n",
    "# Calculate the first and third quartiles and the interquartile range (IQR) for the 'Product_A_Sales', 'Product_B_Sales', 'Product_C_Sales', and 'Product_D_Sales' columns\n",
    "Q1 = df.iloc[:, 3:7].quantile(0.25)\n",
    "Q3 = df.iloc[:, 3:7].quantile(0.75)\n",
    "IQR = Q3 - Q1\n",
    "\n",
    "# Remove any data points that fall outside the lower and upper bounds defined by the IQR for each column\n",
    "df = df[~((df.iloc[:, 3:7] < (Q1 - 1.5 * IQR)) | (df.iloc[:, 3:7] > (Q3 + 1.5 * IQR))).any(axis=1)]\n",
    "\n",
    "# Create a box plot of the 'Product_A_Sales', 'Product_B_Sales', 'Product_C_Sales', and 'Product_D_Sales' columns after removing outliers using the IQR method\n",
    "sns.boxplot(data=df.iloc[:, 3:7])\n",
    "plt.show()"
   ]
  },
  {
   "cell_type": "code",
   "execution_count": 11,
   "id": "8f639df2",
   "metadata": {},
   "outputs": [
    {
     "data": {
      "text/html": [
       "<div>\n",
       "<style scoped>\n",
       "    .dataframe tbody tr th:only-of-type {\n",
       "        vertical-align: middle;\n",
       "    }\n",
       "\n",
       "    .dataframe tbody tr th {\n",
       "        vertical-align: top;\n",
       "    }\n",
       "\n",
       "    .dataframe thead th {\n",
       "        text-align: right;\n",
       "    }\n",
       "</style>\n",
       "<table border=\"1\" class=\"dataframe\">\n",
       "  <thead>\n",
       "    <tr style=\"text-align: right;\">\n",
       "      <th></th>\n",
       "      <th>Product_A_Sales</th>\n",
       "      <th>Product_B_Sales</th>\n",
       "      <th>Product_C_Sales</th>\n",
       "      <th>Product_D_Sales</th>\n",
       "    </tr>\n",
       "  </thead>\n",
       "  <tbody>\n",
       "    <tr>\n",
       "      <th>count</th>\n",
       "      <td>379.000000</td>\n",
       "      <td>374.000000</td>\n",
       "      <td>373.000000</td>\n",
       "      <td>380.000000</td>\n",
       "    </tr>\n",
       "    <tr>\n",
       "      <th>mean</th>\n",
       "      <td>254.928760</td>\n",
       "      <td>75.810160</td>\n",
       "      <td>272.182306</td>\n",
       "      <td>154.378947</td>\n",
       "    </tr>\n",
       "    <tr>\n",
       "      <th>std</th>\n",
       "      <td>86.337333</td>\n",
       "      <td>15.106194</td>\n",
       "      <td>125.117983</td>\n",
       "      <td>87.855354</td>\n",
       "    </tr>\n",
       "    <tr>\n",
       "      <th>min</th>\n",
       "      <td>101.000000</td>\n",
       "      <td>50.000000</td>\n",
       "      <td>54.000000</td>\n",
       "      <td>0.000000</td>\n",
       "    </tr>\n",
       "    <tr>\n",
       "      <th>25%</th>\n",
       "      <td>178.000000</td>\n",
       "      <td>63.000000</td>\n",
       "      <td>168.000000</td>\n",
       "      <td>79.000000</td>\n",
       "    </tr>\n",
       "    <tr>\n",
       "      <th>50%</th>\n",
       "      <td>255.000000</td>\n",
       "      <td>75.000000</td>\n",
       "      <td>265.000000</td>\n",
       "      <td>158.000000</td>\n",
       "    </tr>\n",
       "    <tr>\n",
       "      <th>75%</th>\n",
       "      <td>325.000000</td>\n",
       "      <td>89.000000</td>\n",
       "      <td>383.000000</td>\n",
       "      <td>232.000000</td>\n",
       "    </tr>\n",
       "    <tr>\n",
       "      <th>max</th>\n",
       "      <td>400.000000</td>\n",
       "      <td>100.000000</td>\n",
       "      <td>498.000000</td>\n",
       "      <td>300.000000</td>\n",
       "    </tr>\n",
       "  </tbody>\n",
       "</table>\n",
       "</div>"
      ],
      "text/plain": [
       "       Product_A_Sales  Product_B_Sales  Product_C_Sales  Product_D_Sales\n",
       "count       379.000000       374.000000       373.000000       380.000000\n",
       "mean        254.928760        75.810160       272.182306       154.378947\n",
       "std          86.337333        15.106194       125.117983        87.855354\n",
       "min         101.000000        50.000000        54.000000         0.000000\n",
       "25%         178.000000        63.000000       168.000000        79.000000\n",
       "50%         255.000000        75.000000       265.000000       158.000000\n",
       "75%         325.000000        89.000000       383.000000       232.000000\n",
       "max         400.000000       100.000000       498.000000       300.000000"
      ]
     },
     "execution_count": 11,
     "metadata": {},
     "output_type": "execute_result"
    }
   ],
   "source": [
    "df.describe()"
   ]
  },
  {
   "cell_type": "code",
   "execution_count": 12,
   "id": "09ddee95",
   "metadata": {},
   "outputs": [
    {
     "data": {
      "text/html": [
       "<div>\n",
       "<style scoped>\n",
       "    .dataframe tbody tr th:only-of-type {\n",
       "        vertical-align: middle;\n",
       "    }\n",
       "\n",
       "    .dataframe tbody tr th {\n",
       "        vertical-align: top;\n",
       "    }\n",
       "\n",
       "    .dataframe thead th {\n",
       "        text-align: right;\n",
       "    }\n",
       "</style>\n",
       "<table border=\"1\" class=\"dataframe\">\n",
       "  <thead>\n",
       "    <tr style=\"text-align: right;\">\n",
       "      <th></th>\n",
       "      <th>0</th>\n",
       "      <th>1</th>\n",
       "      <th>2</th>\n",
       "      <th>3</th>\n",
       "      <th>4</th>\n",
       "      <th>5</th>\n",
       "      <th>6</th>\n",
       "      <th>7</th>\n",
       "      <th>8</th>\n",
       "      <th>9</th>\n",
       "      <th>...</th>\n",
       "      <th>384</th>\n",
       "      <th>385</th>\n",
       "      <th>386</th>\n",
       "      <th>387</th>\n",
       "      <th>388</th>\n",
       "      <th>389</th>\n",
       "      <th>390</th>\n",
       "      <th>391</th>\n",
       "      <th>392</th>\n",
       "      <th>393</th>\n",
       "    </tr>\n",
       "  </thead>\n",
       "  <tbody>\n",
       "    <tr>\n",
       "      <th>Time_of_sale</th>\n",
       "      <td>11:41:35</td>\n",
       "      <td>0:29:05</td>\n",
       "      <td>9:03:06</td>\n",
       "      <td>6:39:16</td>\n",
       "      <td>22:01:41</td>\n",
       "      <td>16:33:33</td>\n",
       "      <td>23:23:49</td>\n",
       "      <td>13:31:33</td>\n",
       "      <td>18:19:02</td>\n",
       "      <td>3:58:07</td>\n",
       "      <td>...</td>\n",
       "      <td>11:21:06</td>\n",
       "      <td>6:05:18</td>\n",
       "      <td>21:54:40</td>\n",
       "      <td>10:15:30</td>\n",
       "      <td>13:53:54</td>\n",
       "      <td>4:19:56</td>\n",
       "      <td>2:22:56</td>\n",
       "      <td>23:36:22</td>\n",
       "      <td>14:38:14</td>\n",
       "      <td>0:42:13</td>\n",
       "    </tr>\n",
       "    <tr>\n",
       "      <th>Region_of_sale</th>\n",
       "      <td>East</td>\n",
       "      <td>South</td>\n",
       "      <td>South</td>\n",
       "      <td>East</td>\n",
       "      <td>East</td>\n",
       "      <td>North</td>\n",
       "      <td>East</td>\n",
       "      <td>East</td>\n",
       "      <td>West</td>\n",
       "      <td>North</td>\n",
       "      <td>...</td>\n",
       "      <td>South</td>\n",
       "      <td>North</td>\n",
       "      <td>South</td>\n",
       "      <td>West</td>\n",
       "      <td>South</td>\n",
       "      <td>South</td>\n",
       "      <td>South</td>\n",
       "      <td>West</td>\n",
       "      <td>West</td>\n",
       "      <td>East</td>\n",
       "    </tr>\n",
       "    <tr>\n",
       "      <th>Payment_Type</th>\n",
       "      <td>Net banking</td>\n",
       "      <td>Net banking</td>\n",
       "      <td>Credit card</td>\n",
       "      <td>Paypal</td>\n",
       "      <td>Net banking</td>\n",
       "      <td>Net banking</td>\n",
       "      <td>Credit card</td>\n",
       "      <td>Credit card</td>\n",
       "      <td>Paypal</td>\n",
       "      <td>Net banking</td>\n",
       "      <td>...</td>\n",
       "      <td>Net banking</td>\n",
       "      <td>Paypal</td>\n",
       "      <td>Credit card</td>\n",
       "      <td>Paypal</td>\n",
       "      <td>Net banking</td>\n",
       "      <td>Credit card</td>\n",
       "      <td>Net banking</td>\n",
       "      <td>Net banking</td>\n",
       "      <td>Paypal</td>\n",
       "      <td>Credit card</td>\n",
       "    </tr>\n",
       "    <tr>\n",
       "      <th>Product_A_Sales</th>\n",
       "      <td>398.0</td>\n",
       "      <td>358.0</td>\n",
       "      <td>107.0</td>\n",
       "      <td>153.0</td>\n",
       "      <td>388.0</td>\n",
       "      <td>160.0</td>\n",
       "      <td>323.0</td>\n",
       "      <td>272.0</td>\n",
       "      <td>226.0</td>\n",
       "      <td>315.0</td>\n",
       "      <td>...</td>\n",
       "      <td>141.0</td>\n",
       "      <td>135.0</td>\n",
       "      <td>312.0</td>\n",
       "      <td>323.0</td>\n",
       "      <td>325.0</td>\n",
       "      <td>326.0</td>\n",
       "      <td>161.0</td>\n",
       "      <td>314.0</td>\n",
       "      <td>271.0</td>\n",
       "      <td>150.0</td>\n",
       "    </tr>\n",
       "    <tr>\n",
       "      <th>Product_B_Sales</th>\n",
       "      <td>90.0</td>\n",
       "      <td>86.0</td>\n",
       "      <td>78.0</td>\n",
       "      <td>68.0</td>\n",
       "      <td>98.0</td>\n",
       "      <td>87.0</td>\n",
       "      <td>64.0</td>\n",
       "      <td>86.0</td>\n",
       "      <td>72.0</td>\n",
       "      <td>61.0</td>\n",
       "      <td>...</td>\n",
       "      <td>83.0</td>\n",
       "      <td>79.0</td>\n",
       "      <td>75.0</td>\n",
       "      <td>95.0</td>\n",
       "      <td>52.0</td>\n",
       "      <td>60.0</td>\n",
       "      <td>60.0</td>\n",
       "      <td>87.0</td>\n",
       "      <td>65.0</td>\n",
       "      <td>70.0</td>\n",
       "    </tr>\n",
       "    <tr>\n",
       "      <th>Product_C_Sales</th>\n",
       "      <td>235.0</td>\n",
       "      <td>493.0</td>\n",
       "      <td>216.0</td>\n",
       "      <td>182.0</td>\n",
       "      <td>71.0</td>\n",
       "      <td>261.0</td>\n",
       "      <td>394.0</td>\n",
       "      <td>404.0</td>\n",
       "      <td>179.0</td>\n",
       "      <td>84.0</td>\n",
       "      <td>...</td>\n",
       "      <td>452.0</td>\n",
       "      <td>272.0</td>\n",
       "      <td>427.0</td>\n",
       "      <td>215.0</td>\n",
       "      <td>465.0</td>\n",
       "      <td>183.0</td>\n",
       "      <td>122.0</td>\n",
       "      <td>393.0</td>\n",
       "      <td>229.0</td>\n",
       "      <td>439.0</td>\n",
       "    </tr>\n",
       "    <tr>\n",
       "      <th>Product_D_Sales</th>\n",
       "      <td>102</td>\n",
       "      <td>41</td>\n",
       "      <td>275</td>\n",
       "      <td>50</td>\n",
       "      <td>107</td>\n",
       "      <td>250</td>\n",
       "      <td>85</td>\n",
       "      <td>89</td>\n",
       "      <td>36</td>\n",
       "      <td>179</td>\n",
       "      <td>...</td>\n",
       "      <td>56</td>\n",
       "      <td>191</td>\n",
       "      <td>134</td>\n",
       "      <td>101</td>\n",
       "      <td>188</td>\n",
       "      <td>209</td>\n",
       "      <td>122</td>\n",
       "      <td>33</td>\n",
       "      <td>145</td>\n",
       "      <td>237</td>\n",
       "    </tr>\n",
       "    <tr>\n",
       "      <th>Source_of_Sale</th>\n",
       "      <td>Etsy</td>\n",
       "      <td>Amazon</td>\n",
       "      <td>Etsy</td>\n",
       "      <td>Etsy</td>\n",
       "      <td>Facebook</td>\n",
       "      <td>Etsy</td>\n",
       "      <td>Etsy</td>\n",
       "      <td>Etsy</td>\n",
       "      <td>Amazon</td>\n",
       "      <td>Facebook</td>\n",
       "      <td>...</td>\n",
       "      <td>Amazon</td>\n",
       "      <td>Amazon</td>\n",
       "      <td>Facebook</td>\n",
       "      <td>Facebook</td>\n",
       "      <td>Facebook</td>\n",
       "      <td>Etsy</td>\n",
       "      <td>Facebook</td>\n",
       "      <td>Amazon</td>\n",
       "      <td>Etsy</td>\n",
       "      <td>Facebook</td>\n",
       "    </tr>\n",
       "  </tbody>\n",
       "</table>\n",
       "<p>8 rows × 380 columns</p>\n",
       "</div>"
      ],
      "text/plain": [
       "                         0            1            2        3            4    \\\n",
       "Time_of_sale        11:41:35      0:29:05      9:03:06  6:39:16     22:01:41   \n",
       "Region_of_sale          East        South        South     East         East   \n",
       "Payment_Type     Net banking  Net banking  Credit card   Paypal  Net banking   \n",
       "Product_A_Sales        398.0        358.0        107.0    153.0        388.0   \n",
       "Product_B_Sales         90.0         86.0         78.0     68.0         98.0   \n",
       "Product_C_Sales        235.0        493.0        216.0    182.0         71.0   \n",
       "Product_D_Sales          102           41          275       50          107   \n",
       "Source_of_Sale          Etsy       Amazon         Etsy     Etsy     Facebook   \n",
       "\n",
       "                         5            6            7         8            9    \\\n",
       "Time_of_sale        16:33:33     23:23:49     13:31:33  18:19:02      3:58:07   \n",
       "Region_of_sale         North         East         East      West        North   \n",
       "Payment_Type     Net banking  Credit card  Credit card    Paypal  Net banking   \n",
       "Product_A_Sales        160.0        323.0        272.0     226.0        315.0   \n",
       "Product_B_Sales         87.0         64.0         86.0      72.0         61.0   \n",
       "Product_C_Sales        261.0        394.0        404.0     179.0         84.0   \n",
       "Product_D_Sales          250           85           89        36          179   \n",
       "Source_of_Sale          Etsy         Etsy         Etsy    Amazon     Facebook   \n",
       "\n",
       "                 ...          384      385          386       387  \\\n",
       "Time_of_sale     ...     11:21:06  6:05:18     21:54:40  10:15:30   \n",
       "Region_of_sale   ...        South    North        South      West   \n",
       "Payment_Type     ...  Net banking   Paypal  Credit card    Paypal   \n",
       "Product_A_Sales  ...        141.0    135.0        312.0     323.0   \n",
       "Product_B_Sales  ...         83.0     79.0         75.0      95.0   \n",
       "Product_C_Sales  ...        452.0    272.0        427.0     215.0   \n",
       "Product_D_Sales  ...           56      191          134       101   \n",
       "Source_of_Sale   ...       Amazon   Amazon     Facebook  Facebook   \n",
       "\n",
       "                         388          389          390          391       392  \\\n",
       "Time_of_sale        13:53:54      4:19:56      2:22:56     23:36:22  14:38:14   \n",
       "Region_of_sale         South        South        South         West      West   \n",
       "Payment_Type     Net banking  Credit card  Net banking  Net banking    Paypal   \n",
       "Product_A_Sales        325.0        326.0        161.0        314.0     271.0   \n",
       "Product_B_Sales         52.0         60.0         60.0         87.0      65.0   \n",
       "Product_C_Sales        465.0        183.0        122.0        393.0     229.0   \n",
       "Product_D_Sales          188          209          122           33       145   \n",
       "Source_of_Sale      Facebook         Etsy     Facebook       Amazon      Etsy   \n",
       "\n",
       "                         393  \n",
       "Time_of_sale         0:42:13  \n",
       "Region_of_sale          East  \n",
       "Payment_Type     Credit card  \n",
       "Product_A_Sales        150.0  \n",
       "Product_B_Sales         70.0  \n",
       "Product_C_Sales        439.0  \n",
       "Product_D_Sales          237  \n",
       "Source_of_Sale      Facebook  \n",
       "\n",
       "[8 rows x 380 columns]"
      ]
     },
     "execution_count": 12,
     "metadata": {},
     "output_type": "execute_result"
    }
   ],
   "source": [
    "df.transpose()"
   ]
  },
  {
   "cell_type": "raw",
   "id": "f602d3c7",
   "metadata": {},
   "source": [
    "visualizing the dataframe"
   ]
  },
  {
   "cell_type": "code",
   "execution_count": 13,
   "id": "57067d1c",
   "metadata": {},
   "outputs": [
    {
     "data": {
      "image/png": "[encoded data removed]",
      "text/plain": [
       "<Figure size 640x480 with 1 Axes>"
      ]
     },
     "metadata": {},
     "output_type": "display_data"
    }
   ],
   "source": [
    "import pandas as pd\n",
    "import matplotlib.pyplot as plt\n",
    "\n",
    "df = pd.read_csv('SALESEDACSV-FallB.csv')\n",
    "df.boxplot()\n",
    "plt.show()"
   ]
  },
  {
   "cell_type": "raw",
   "id": "c964def7",
   "metadata": {},
   "source": [
    "creating a new column called 'Total_Sales' that sums up the sales for each product category"
   ]
  },
  {
   "cell_type": "code",
   "execution_count": 14,
   "id": "aab1964a",
   "metadata": {},
   "outputs": [],
   "source": [
    "import pandas as pd\n",
    "\n",
    "df = pd.read_csv('SALESEDACSV-FallB.csv')\n",
    "\n",
    "df['Total_Sales'] = df[['Product_A_Sales', 'Product_B_Sales', 'Product_C_Sales', 'Product_D_Sales']].sum(axis=1)"
   ]
  },
  {
   "cell_type": "code",
   "execution_count": 15,
   "id": "dbdc55fb",
   "metadata": {},
   "outputs": [
    {
     "data": {
      "text/plain": [
       "Index(['Time_of_sale', 'Region_of_sale', 'Payment_Type', 'Product_A_Sales',\n",
       "       'Product_B_Sales', 'Product_C_Sales', 'Product_D_Sales',\n",
       "       'Source_of_Sale', 'Total_Sales'],\n",
       "      dtype='object')"
      ]
     },
     "execution_count": 15,
     "metadata": {},
     "output_type": "execute_result"
    }
   ],
   "source": [
    "df.columns"
   ]
  },
  {
   "cell_type": "raw",
   "id": "32a2c84a",
   "metadata": {},
   "source": [
    "visualization that showcases the total sales for each product category."
   ]
  },
  {
   "cell_type": "code",
   "execution_count": 16,
   "id": "7271853b",
   "metadata": {},
   "outputs": [
    {
     "data": {
      "image/png": "[encoded data removed]",
      "text/plain": [
       "<Figure size 640x480 with 1 Axes>"
      ]
     },
     "metadata": {},
     "output_type": "display_data"
    }
   ],
   "source": [
    "import matplotlib.pyplot as plt\n",
    "\n",
    "plt.boxplot(df[['Product_A_Sales', 'Product_B_Sales', 'Product_C_Sales', 'Product_D_Sales', 'Total_Sales']].values)\n",
    "plt.xticks([1, 2, 3, 4, 5], ['Product A', 'Product B', 'Product C', 'Product D', 'Total Sales'])\n",
    "plt.ylabel('Sales')\n",
    "plt.title('Sales by Product Category')\n",
    "plt.show()"
   ]
  },
  {
   "cell_type": "code",
   "execution_count": 17,
   "id": "b8f46a93",
   "metadata": {},
   "outputs": [
    {
     "name": "stdout",
     "output_type": "stream",
     "text": [
      "  Time_of_sale Region_of_sale Payment_Type  Product_A_Sales  Product_B_Sales  \\\n",
      "0     11:41:35           East  Net banking            398.0             90.0   \n",
      "1      0:29:05          South  Net banking            358.0             86.0   \n",
      "2      9:03:06          South  Credit card            107.0             78.0   \n",
      "3      6:39:16           East       Paypal            153.0             68.0   \n",
      "4     22:01:41           East  Net banking            388.0             98.0   \n",
      "\n",
      "   Product_C_Sales  Product_D_Sales Source_of_Sale  Total_Sales  \n",
      "0            235.0              102           Etsy        825.0  \n",
      "1            493.0               41         Amazon        978.0  \n",
      "2            216.0              275           Etsy        676.0  \n",
      "3            182.0               50           Etsy        453.0  \n",
      "4             71.0              107       Facebook        664.0  \n"
     ]
    }
   ],
   "source": [
    "#create a new column called Total_Sales\n",
    "import pandas as pd\n",
    "\n",
    "df = pd.read_csv('SALESEDACSV-FallB.csv')\n",
    "\n",
    "# Create a new column called Total_Sales that adds the sales data for each product\n",
    "df['Total_Sales'] = df[['Product_A_Sales', 'Product_B_Sales', 'Product_C_Sales', 'Product_D_Sales']].sum(axis=1)\n",
    "\n",
    "# Print the first few rows of the updated dataframe\n",
    "print(df.head())"
   ]
  },
  {
   "cell_type": "raw",
   "id": "0ab7282e",
   "metadata": {},
   "source": [
    "Calculating the total product sales for each payment type vs Region_of_sale "
   ]
  },
  {
   "cell_type": "code",
   "execution_count": 18,
   "id": "1a172cd6",
   "metadata": {},
   "outputs": [
    {
     "name": "stdout",
     "output_type": "stream",
     "text": [
      "Region_of_sale         East         North    South     West\n",
      "Payment_Type                                               \n",
      "Credit card     435483404.0  4.770640e+05  29383.0  24308.0\n",
      "Net banking        362526.0  2.331200e+04  26705.0  23470.0\n",
      "Paypal              22153.0  4.334345e+10  19446.0  23425.0\n"
     ]
    }
   ],
   "source": [
    "import pandas as pd\n",
    "\n",
    "# Read the CSV file into a pandas dataframe\n",
    "df = pd.read_csv('SALESEDACSV-FallB.csv')\n",
    "\n",
    "df['Total_Sales'] = df[['Product_A_Sales', 'Product_B_Sales', 'Product_C_Sales', 'Product_D_Sales']].sum(axis=1)\n",
    "\n",
    "# Calculate the total product sales for each payment type\n",
    "sales_by_payment = df.groupby('Payment_Type')['Total_Sales'].sum()\n",
    "\n",
    "# Create a pivot table to display the numerical values of each product by region\n",
    "pivot_table = pd.pivot_table(df, values='Total_Sales', index='Payment_Type', columns='Region_of_sale', aggfunc='sum')\n",
    "\n",
    "print(pivot_table)"
   ]
  },
  {
   "cell_type": "code",
   "execution_count": 19,
   "id": "ff5cc25a",
   "metadata": {},
   "outputs": [
    {
     "data": {
      "image/png": "[encoded data removed]",
      "text/plain": [
       "<Figure size 640x480 with 1 Axes>"
      ]
     },
     "metadata": {},
     "output_type": "display_data"
    },
    {
     "data": {
      "image/png": "[encoded data removed]",
      "text/plain": [
       "<Figure size 640x480 with 1 Axes>"
      ]
     },
     "metadata": {},
     "output_type": "display_data"
    }
   ],
   "source": [
    "import pandas as pd\n",
    "import matplotlib.pyplot as plt\n",
    "\n",
    "# Read the CSV file into a pandas dataframe\n",
    "df = pd.read_csv('SALESEDACSV-FallB.csv')\n",
    "\n",
    "df['Total_Sales'] = df[['Product_A_Sales', 'Product_B_Sales', 'Product_C_Sales', 'Product_D_Sales']].sum(axis=1)\n",
    "\n",
    "# Calculate the total product sales for each payment type\n",
    "sales_by_payment = df.groupby('Payment_Type')['Total_Sales'].sum()\n",
    "\n",
    "# Plot the sales data for each payment type using a bar plot\n",
    "sales_by_payment.plot(kind='bar')\n",
    "\n",
    "# Set the title and axis labels\n",
    "plt.title('Total Product Sales by Payment Type')\n",
    "plt.xlabel('Payment Type')\n",
    "plt.ylabel('Total Product Sales')\n",
    "\n",
    "# Show the plot\n",
    "plt.show()\n",
    "\n",
    "# Plot the data in df.describe()\n",
    "df.describe().plot(kind='bar')\n",
    "\n",
    "# Set the title and axis labels\n",
    "plt.title('Summary Statistics for Sales Data')\n",
    "plt.xlabel('Statistic')\n",
    "plt.ylabel('Value')\n",
    "\n",
    "# Show the plot\n",
    "plt.show()"
   ]
  },
  {
   "cell_type": "raw",
   "id": "b0b62d9f",
   "metadata": {},
   "source": [
    "  correlation between payment type and total sales"
   ]
  },
  {
   "cell_type": "code",
   "execution_count": 20,
   "id": "24059263",
   "metadata": {},
   "outputs": [],
   "source": [
    "import pandas as pd\n",
    "import seaborn as sns\n",
    "import matplotlib.pyplot as plt\n",
    "\n",
    "# Load the preprocessed data into a pandas DataFrame\n",
    "df = pd.read_csv('SALESEDACSV-FallB.csv')\n",
    "\n",
    "df['Total_Sales'] = df[['Product_A_Sales', 'Product_B_Sales', 'Product_C_Sales', 'Product_D_Sales']].sum(axis=1)\n",
    "\n",
    "# Check for missing values in the dataframe and fill them\n",
    "df.fillna(df.mode().iloc[0], inplace=True)\n",
    "\n",
    "# Create a new DataFrame with the total sales of each product in each region\n",
    "df_product_region = df.groupby(['Region_of_sale']).sum()[['Product_A_Sales', 'Product_B_Sales', 'Product_C_Sales', 'Product_D_Sales']]\n",
    "\n",
    "# Create a pivot table to display the numerical values of each product by region\n",
    "pivot_table = pd.pivot_table(df, values='Total_Sales', index='Payment_Type', columns='Region_of_sale', aggfunc='sum')"
   ]
  },
  {
   "cell_type": "code",
   "execution_count": 21,
   "id": "17f6c0ff",
   "metadata": {},
   "outputs": [
    {
     "data": {
      "text/html": [
       "<div>\n",
       "<style scoped>\n",
       "    .dataframe tbody tr th:only-of-type {\n",
       "        vertical-align: middle;\n",
       "    }\n",
       "\n",
       "    .dataframe tbody tr th {\n",
       "        vertical-align: top;\n",
       "    }\n",
       "\n",
       "    .dataframe thead th {\n",
       "        text-align: right;\n",
       "    }\n",
       "</style>\n",
       "<table border=\"1\" class=\"dataframe\">\n",
       "  <thead>\n",
       "    <tr style=\"text-align: right;\">\n",
       "      <th>Region_of_sale</th>\n",
       "      <th>East</th>\n",
       "      <th>North</th>\n",
       "      <th>South</th>\n",
       "      <th>West</th>\n",
       "    </tr>\n",
       "    <tr>\n",
       "      <th>Payment_Type</th>\n",
       "      <th></th>\n",
       "      <th></th>\n",
       "      <th></th>\n",
       "      <th></th>\n",
       "    </tr>\n",
       "  </thead>\n",
       "  <tbody>\n",
       "    <tr>\n",
       "      <th>Credit card</th>\n",
       "      <td>435486364.0</td>\n",
       "      <td>4.789840e+05</td>\n",
       "      <td>31838.0</td>\n",
       "      <td>24746.0</td>\n",
       "    </tr>\n",
       "    <tr>\n",
       "      <th>Net banking</th>\n",
       "      <td>362526.0</td>\n",
       "      <td>2.331200e+04</td>\n",
       "      <td>26705.0</td>\n",
       "      <td>23470.0</td>\n",
       "    </tr>\n",
       "    <tr>\n",
       "      <th>Paypal</th>\n",
       "      <td>22153.0</td>\n",
       "      <td>4.334345e+10</td>\n",
       "      <td>19446.0</td>\n",
       "      <td>23425.0</td>\n",
       "    </tr>\n",
       "  </tbody>\n",
       "</table>\n",
       "</div>"
      ],
      "text/plain": [
       "Region_of_sale         East         North    South     West\n",
       "Payment_Type                                               \n",
       "Credit card     435486364.0  4.789840e+05  31838.0  24746.0\n",
       "Net banking        362526.0  2.331200e+04  26705.0  23470.0\n",
       "Paypal              22153.0  4.334345e+10  19446.0  23425.0"
      ]
     },
     "execution_count": 21,
     "metadata": {},
     "output_type": "execute_result"
    }
   ],
   "source": [
    "pivot_table"
   ]
  },
  {
   "cell_type": "code",
   "execution_count": 22,
   "id": "69f649c8",
   "metadata": {},
   "outputs": [
    {
     "data": {
      "image/png": "[encoded data removed]",
      "text/plain": [
       "<Figure size 640x480 with 2 Axes>"
      ]
     },
     "metadata": {},
     "output_type": "display_data"
    }
   ],
   "source": [
    "import pandas as pd\n",
    "import seaborn as sns\n",
    "import matplotlib.pyplot as plt\n",
    "\n",
    "# Load the preprocessed data into a pandas DataFrame\n",
    "df = pd.read_csv('SALESEDACSV-FallB.csv')\n",
    "\n",
    "# Create a new DataFrame with the total sales of each product in each region\n",
    "df_product_region = df.groupby(['Region_of_sale']).sum()[['Product_A_Sales', 'Product_B_Sales', 'Product_C_Sales', 'Product_D_Sales']]\n",
    "\n",
    "# Create a heatmap to visualize the total sales of each product in each region\n",
    "sns.heatmap(df_product_region, annot=True, fmt='g', cmap='YlGnBu')\n",
    "plt.show()"
   ]
  },
  {
   "cell_type": "raw",
   "id": "4f588e1c",
   "metadata": {},
   "source": [
    "Investigating whether specific time periods of the day witness higher or lower sales for the products."
   ]
  },
  {
   "cell_type": "code",
   "execution_count": 23,
   "id": "7cc0717d",
   "metadata": {},
   "outputs": [
    {
     "name": "stderr",
     "output_type": "stream",
     "text": [
      "/tmp/ipykernel_163498/1510002984.py:8: UserWarning: Could not infer format, so each element will be parsed individually, falling back to `dateutil`. To ensure parsing is consistent and as-expected, please specify a format.\n",
      "  df['Time_of_sale'] = pd.to_datetime(df['Time_of_sale'])\n",
      "/tmp/ipykernel_163498/1510002984.py:14: FutureWarning: The default of observed=False is deprecated and will be changed to True in a future version of pandas. Pass observed=False to retain current behavior or observed=True to adopt the future default and silence this warning.\n",
      "  sales_data = df.groupby('Time_Group')[['Product_A_Sales', 'Product_B_Sales', 'Product_C_Sales', 'Product_D_Sales']].sum()\n"
     ]
    }
   ],
   "source": [
    "import pandas as pd\n",
    "import matplotlib.pyplot as plt\n",
    "\n",
    "# Load the CSV file into a pandas DataFrame\n",
    "df = pd.read_csv('SALESEDACSV-FallB.csv')\n",
    "\n",
    "# Convert the Time_of_sale column to a datetime object\n",
    "df['Time_of_sale'] = pd.to_datetime(df['Time_of_sale'])\n",
    "\n",
    "# Group the time of sale into 3-hour intervals\n",
    "df['Time_Group'] = pd.cut(df['Time_of_sale'].dt.hour, bins=8, labels=['0-3', '3-6', '6-9', '9-12', '12-15', '15-18', '18-21', '21-24'])\n",
    "\n",
    "# Group the data by the time intervals and calculate the sum of the product sales\n",
    "sales_data = df.groupby('Time_Group')[['Product_A_Sales', 'Product_B_Sales', 'Product_C_Sales', 'Product_D_Sales']].sum()"
   ]
  },
  {
   "cell_type": "code",
   "execution_count": 24,
   "id": "8743ceb2",
   "metadata": {},
   "outputs": [
    {
     "data": {
      "text/html": [
       "<div>\n",
       "<style scoped>\n",
       "    .dataframe tbody tr th:only-of-type {\n",
       "        vertical-align: middle;\n",
       "    }\n",
       "\n",
       "    .dataframe tbody tr th {\n",
       "        vertical-align: top;\n",
       "    }\n",
       "\n",
       "    .dataframe thead th {\n",
       "        text-align: right;\n",
       "    }\n",
       "</style>\n",
       "<table border=\"1\" class=\"dataframe\">\n",
       "  <thead>\n",
       "    <tr style=\"text-align: right;\">\n",
       "      <th>Region_of_sale</th>\n",
       "      <th>East</th>\n",
       "      <th>North</th>\n",
       "      <th>South</th>\n",
       "      <th>West</th>\n",
       "    </tr>\n",
       "    <tr>\n",
       "      <th>Payment_Type</th>\n",
       "      <th></th>\n",
       "      <th></th>\n",
       "      <th></th>\n",
       "      <th></th>\n",
       "    </tr>\n",
       "  </thead>\n",
       "  <tbody>\n",
       "    <tr>\n",
       "      <th>Credit card</th>\n",
       "      <td>435486364.0</td>\n",
       "      <td>4.789840e+05</td>\n",
       "      <td>31838.0</td>\n",
       "      <td>24746.0</td>\n",
       "    </tr>\n",
       "    <tr>\n",
       "      <th>Net banking</th>\n",
       "      <td>362526.0</td>\n",
       "      <td>2.331200e+04</td>\n",
       "      <td>26705.0</td>\n",
       "      <td>23470.0</td>\n",
       "    </tr>\n",
       "    <tr>\n",
       "      <th>Paypal</th>\n",
       "      <td>22153.0</td>\n",
       "      <td>4.334345e+10</td>\n",
       "      <td>19446.0</td>\n",
       "      <td>23425.0</td>\n",
       "    </tr>\n",
       "  </tbody>\n",
       "</table>\n",
       "</div>"
      ],
      "text/plain": [
       "Region_of_sale         East         North    South     West\n",
       "Payment_Type                                               \n",
       "Credit card     435486364.0  4.789840e+05  31838.0  24746.0\n",
       "Net banking        362526.0  2.331200e+04  26705.0  23470.0\n",
       "Paypal              22153.0  4.334345e+10  19446.0  23425.0"
      ]
     },
     "execution_count": 24,
     "metadata": {},
     "output_type": "execute_result"
    }
   ],
   "source": [
    "pivot_table"
   ]
  },
  {
   "cell_type": "code",
   "execution_count": 25,
   "id": "ed7c2474",
   "metadata": {},
   "outputs": [
    {
     "data": {
      "image/png": "[encoded data removed]",
      "text/plain": [
       "<Figure size 640x480 with 1 Axes>"
      ]
     },
     "metadata": {},
     "output_type": "display_data"
    }
   ],
   "source": [
    "# Plot the results using a line graph\n",
    "sales_data.plot(kind='line', marker='o')\n",
    "plt.xlabel('Time of Sale (Grouped in 3 Hours)')\n",
    "plt.ylabel('Product Sales')\n",
    "plt.title('Product Sales vs Time of Sale')\n",
    "plt.show()"
   ]
  },
  {
   "cell_type": "raw",
   "id": "b7060462",
   "metadata": {},
   "source": [
    "Analyzing Overall Sales/Region Distribution of Each Product (A,B,C,D, etc):"
   ]
  },
  {
   "cell_type": "code",
   "execution_count": 26,
   "id": "f1476f73",
   "metadata": {},
   "outputs": [
    {
     "name": "stdout",
     "output_type": "stream",
     "text": [
      "                Product_A_Sales  Product_B_Sales  Product_C_Sales  \\\n",
      "Region_of_sale                                                      \n",
      "East                    26391.0     4.358014e+08          27862.0   \n",
      "North                   24214.0     4.334389e+10          24233.0   \n",
      "South                   24913.0     8.306000e+03          29633.0   \n",
      "West                    25216.0     7.222000e+03          24860.0   \n",
      "\n",
      "                Product_D_Sales  \n",
      "Region_of_sale                   \n",
      "East                    15740.0  \n",
      "North                   14917.0  \n",
      "South                   15456.0  \n",
      "West                    15063.0  \n"
     ]
    }
   ],
   "source": [
    "import pandas as pd\n",
    "\n",
    "# Load the preprocessed data into a pandas DataFrame\n",
    "df = pd.read_csv('SALESEDACSV-FallB.csv')\n",
    "\n",
    "# Check for missing values in the dataframe and fill them\n",
    "df.fillna(df.mode().iloc[0], inplace=True)\n",
    "\n",
    "# Group the sales data by product and region and calculate the total revenue for each group\n",
    "df_product_region = df.groupby(['Region_of_sale']).sum()[['Product_A_Sales', 'Product_B_Sales', 'Product_C_Sales', 'Product_D_Sales']]\n",
    "\n",
    "# Create a pivot table to display the numerical values of each product by region\n",
    "pivot_table = pd.pivot_table(df_product_region, values=['Product_A_Sales', 'Product_B_Sales', 'Product_C_Sales', 'Product_D_Sales'], index=['Region_of_sale'])\n",
    "print(pivot_table)"
   ]
  },
  {
   "cell_type": "code",
   "execution_count": 27,
   "id": "0d876378",
   "metadata": {},
   "outputs": [
    {
     "data": {
      "image/png": "[encoded data removed]",
      "text/plain": [
       "<Figure size 640x480 with 1 Axes>"
      ]
     },
     "metadata": {},
     "output_type": "display_data"
    }
   ],
   "source": [
    "# Create a bar chart of the total revenue by region for each product\n",
    "pivot_table.plot(kind='bar')\n",
    "plt.show()"
   ]
  },
  {
   "cell_type": "code",
   "execution_count": 28,
   "id": "1f503936",
   "metadata": {},
   "outputs": [],
   "source": [
    "import pandas as pd\n",
    "import matplotlib.pyplot as plt\n",
    "\n",
    "# Load the preprocessed data into a pandas DataFrame\n",
    "df = pd.read_csv('SALESEDACSV-FallB.csv')\n",
    "\n",
    "# Create a new DataFrame with the total sales of each product category\n",
    "df_product_sales = df[['Product_A_Sales', 'Product_B_Sales', 'Product_C_Sales', 'Product_D_Sales']].sum()\n",
    "\n"
   ]
  },
  {
   "cell_type": "code",
   "execution_count": 29,
   "id": "badcea58",
   "metadata": {},
   "outputs": [
    {
     "data": {
      "text/html": [
       "<div>\n",
       "<style scoped>\n",
       "    .dataframe tbody tr th:only-of-type {\n",
       "        vertical-align: middle;\n",
       "    }\n",
       "\n",
       "    .dataframe tbody tr th {\n",
       "        vertical-align: top;\n",
       "    }\n",
       "\n",
       "    .dataframe thead th {\n",
       "        text-align: right;\n",
       "    }\n",
       "</style>\n",
       "<table border=\"1\" class=\"dataframe\">\n",
       "  <thead>\n",
       "    <tr style=\"text-align: right;\">\n",
       "      <th></th>\n",
       "      <th>Product_A_Sales</th>\n",
       "      <th>Product_B_Sales</th>\n",
       "      <th>Product_C_Sales</th>\n",
       "      <th>Product_D_Sales</th>\n",
       "    </tr>\n",
       "    <tr>\n",
       "      <th>Region_of_sale</th>\n",
       "      <th></th>\n",
       "      <th></th>\n",
       "      <th></th>\n",
       "      <th></th>\n",
       "    </tr>\n",
       "  </thead>\n",
       "  <tbody>\n",
       "    <tr>\n",
       "      <th>East</th>\n",
       "      <td>26391.0</td>\n",
       "      <td>4.358014e+08</td>\n",
       "      <td>27862.0</td>\n",
       "      <td>15740.0</td>\n",
       "    </tr>\n",
       "    <tr>\n",
       "      <th>North</th>\n",
       "      <td>24214.0</td>\n",
       "      <td>4.334389e+10</td>\n",
       "      <td>24233.0</td>\n",
       "      <td>14917.0</td>\n",
       "    </tr>\n",
       "    <tr>\n",
       "      <th>South</th>\n",
       "      <td>24913.0</td>\n",
       "      <td>8.306000e+03</td>\n",
       "      <td>29633.0</td>\n",
       "      <td>15456.0</td>\n",
       "    </tr>\n",
       "    <tr>\n",
       "      <th>West</th>\n",
       "      <td>25216.0</td>\n",
       "      <td>7.222000e+03</td>\n",
       "      <td>24860.0</td>\n",
       "      <td>15063.0</td>\n",
       "    </tr>\n",
       "  </tbody>\n",
       "</table>\n",
       "</div>"
      ],
      "text/plain": [
       "                Product_A_Sales  Product_B_Sales  Product_C_Sales  \\\n",
       "Region_of_sale                                                      \n",
       "East                    26391.0     4.358014e+08          27862.0   \n",
       "North                   24214.0     4.334389e+10          24233.0   \n",
       "South                   24913.0     8.306000e+03          29633.0   \n",
       "West                    25216.0     7.222000e+03          24860.0   \n",
       "\n",
       "                Product_D_Sales  \n",
       "Region_of_sale                   \n",
       "East                    15740.0  \n",
       "North                   14917.0  \n",
       "South                   15456.0  \n",
       "West                    15063.0  "
      ]
     },
     "execution_count": 29,
     "metadata": {},
     "output_type": "execute_result"
    }
   ],
   "source": [
    "pivot_table"
   ]
  },
  {
   "cell_type": "code",
   "execution_count": 30,
   "id": "8a5cac04",
   "metadata": {},
   "outputs": [
    {
     "data": {
      "image/png": "[encoded data removed]",
      "text/plain": [
       "<Figure size 640x480 with 1 Axes>"
      ]
     },
     "metadata": {},
     "output_type": "display_data"
    }
   ],
   "source": [
    "# Create a bar chart to visualize the total sales of each product category\n",
    "df_product_sales.plot(kind='bar')\n",
    "plt.show()"
   ]
  },
  {
   "cell_type": "raw",
   "id": "7383c839",
   "metadata": {},
   "source": [
    "Study Sales Patterns Over Different Times of the Day"
   ]
  },
  {
   "cell_type": "code",
   "execution_count": 31,
   "id": "d1f7d24c",
   "metadata": {},
   "outputs": [
    {
     "name": "stderr",
     "output_type": "stream",
     "text": [
      "/tmp/ipykernel_163498/262642977.py:10: UserWarning: Could not infer format, so each element will be parsed individually, falling back to `dateutil`. To ensure parsing is consistent and as-expected, please specify a format.\n",
      "  df['Time_of_sale'] = pd.to_datetime(df['Time_of_sale'])\n"
     ]
    }
   ],
   "source": [
    "import pandas as pd\n",
    "import matplotlib.pyplot as plt\n",
    "\n",
    "# Load the preprocessed data into a pandas DataFrame\n",
    "df = pd.read_csv('SALESEDACSV-FallB.csv')\n",
    "\n",
    "df['Total_Sales'] = df[['Product_A_Sales', 'Product_B_Sales', 'Product_C_Sales', 'Product_D_Sales']].sum(axis=1)\n",
    "\n",
    "# Convert the 'Time_of_sale' column to a datetime object\n",
    "df['Time_of_sale'] = pd.to_datetime(df['Time_of_sale'])\n",
    "\n",
    "# Group the sales data by a specific time interval\n",
    "df_sales_time = df.groupby(pd.Grouper(key='Time_of_sale', freq='1H')).sum()['Total_Sales']\n",
    "\n"
   ]
  },
  {
   "cell_type": "code",
   "execution_count": 32,
   "id": "25f7d21d",
   "metadata": {},
   "outputs": [
    {
     "data": {
      "text/html": [
       "<div>\n",
       "<style scoped>\n",
       "    .dataframe tbody tr th:only-of-type {\n",
       "        vertical-align: middle;\n",
       "    }\n",
       "\n",
       "    .dataframe tbody tr th {\n",
       "        vertical-align: top;\n",
       "    }\n",
       "\n",
       "    .dataframe thead th {\n",
       "        text-align: right;\n",
       "    }\n",
       "</style>\n",
       "<table border=\"1\" class=\"dataframe\">\n",
       "  <thead>\n",
       "    <tr style=\"text-align: right;\">\n",
       "      <th></th>\n",
       "      <th>Product_A_Sales</th>\n",
       "      <th>Product_B_Sales</th>\n",
       "      <th>Product_C_Sales</th>\n",
       "      <th>Product_D_Sales</th>\n",
       "    </tr>\n",
       "    <tr>\n",
       "      <th>Region_of_sale</th>\n",
       "      <th></th>\n",
       "      <th></th>\n",
       "      <th></th>\n",
       "      <th></th>\n",
       "    </tr>\n",
       "  </thead>\n",
       "  <tbody>\n",
       "    <tr>\n",
       "      <th>East</th>\n",
       "      <td>26391.0</td>\n",
       "      <td>4.358014e+08</td>\n",
       "      <td>27862.0</td>\n",
       "      <td>15740.0</td>\n",
       "    </tr>\n",
       "    <tr>\n",
       "      <th>North</th>\n",
       "      <td>24214.0</td>\n",
       "      <td>4.334389e+10</td>\n",
       "      <td>24233.0</td>\n",
       "      <td>14917.0</td>\n",
       "    </tr>\n",
       "    <tr>\n",
       "      <th>South</th>\n",
       "      <td>24913.0</td>\n",
       "      <td>8.306000e+03</td>\n",
       "      <td>29633.0</td>\n",
       "      <td>15456.0</td>\n",
       "    </tr>\n",
       "    <tr>\n",
       "      <th>West</th>\n",
       "      <td>25216.0</td>\n",
       "      <td>7.222000e+03</td>\n",
       "      <td>24860.0</td>\n",
       "      <td>15063.0</td>\n",
       "    </tr>\n",
       "  </tbody>\n",
       "</table>\n",
       "</div>"
      ],
      "text/plain": [
       "                Product_A_Sales  Product_B_Sales  Product_C_Sales  \\\n",
       "Region_of_sale                                                      \n",
       "East                    26391.0     4.358014e+08          27862.0   \n",
       "North                   24214.0     4.334389e+10          24233.0   \n",
       "South                   24913.0     8.306000e+03          29633.0   \n",
       "West                    25216.0     7.222000e+03          24860.0   \n",
       "\n",
       "                Product_D_Sales  \n",
       "Region_of_sale                   \n",
       "East                    15740.0  \n",
       "North                   14917.0  \n",
       "South                   15456.0  \n",
       "West                    15063.0  "
      ]
     },
     "execution_count": 32,
     "metadata": {},
     "output_type": "execute_result"
    }
   ],
   "source": [
    "pivot_table"
   ]
  },
  {
   "cell_type": "code",
   "execution_count": 33,
   "id": "864c32bd",
   "metadata": {},
   "outputs": [
    {
     "data": {
      "image/png": "[encoded data removed]",
      "text/plain": [
       "<Figure size 640x480 with 1 Axes>"
      ]
     },
     "metadata": {},
     "output_type": "display_data"
    }
   ],
   "source": [
    "# Create a line chart to visualize the total sales over different time intervals\n",
    "df_sales_time.plot(kind='line')\n",
    "plt.show()"
   ]
  },
  {
   "cell_type": "raw",
   "id": "06a9e0d4",
   "metadata": {},
   "source": []
  },
  {
   "cell_type": "markdown",
   "id": "dd511566",
   "metadata": {},
   "source": []
  }
 ],
 "metadata": {
  "kernelspec": {
   "display_name": "Python 3 (ipykernel)",
   "language": "python",
   "name": "python3"
  },
  "language_info": {
   "codemirror_mode": {
    "name": "ipython",
    "version": 3
   },
   "file_extension": ".py",
   "mimetype": "text/x-python",
   "name": "python",
   "nbconvert_exporter": "python",
   "pygments_lexer": "ipython3",
   "version": "3.11.5"
  }
 },
 "nbformat": 4,
 "nbformat_minor": 5
}
